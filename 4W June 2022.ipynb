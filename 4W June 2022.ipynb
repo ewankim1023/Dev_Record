{
 "cells": [
  {
   "cell_type": "markdown",
   "id": "c04edc12-5c77-4d58-bcd6-c99af23a8fb1",
   "metadata": {},
   "source": [
    "# AI DEVELOPMENT W4 JUNE 2022\n",
    "--------------------------------------"
   ]
  },
  {
   "cell_type": "markdown",
   "id": "1855471b-3e0e-468a-819b-cdd283a3bade",
   "metadata": {},
   "source": [
    "### Branch Name: DS-31 \n",
    "URL: (https://snapdragonmonitoring.atlassian.net/jira/software/c/projects/DS/boards/2?modal=detail&selectedIssue=DS-31)  \n",
    "Content: Git branch prune/ Git checkout testing & Git checkout -b \"DS-31\"/ .env file for dev container"
   ]
  },
  {
   "cell_type": "markdown",
   "id": "67895f4a-e141-4ccb-9e19-d389b47ab76d",
   "metadata": {},
   "source": [
    "**Delete docker images**\n",
    "* docker system prune\n",
    "\n",
    "**Copy git branch and move branch**\n",
    "* git checkout testing   \n",
    "\n",
    "**Delete git branch**\n",
    "* git branch -D \"Name\"\n",
    "\n",
    "**Update git status**\n",
    "* git add .\n",
    "* git commit -m \"message\"\n",
    "\n",
    "**Push git**\n",
    "* git push --set-upstream origin DS-31\n",
    "\n",
    "**PR and Merge**"
   ]
  },
  {
   "cell_type": "markdown",
   "id": "1d003c45-1b0a-4671-bda5-a48590605e5d",
   "metadata": {},
   "source": [
    "# Set up testing and new branch\n",
    "\n",
    "1. git clone https://TaeyoonKim1023@bitbucket.org/mesomorphic/swoop-machine-learning-v2.git\n",
    "2. cd swoop-machine-learning-v2\n",
    "3. C:\\Users\\TaeyoonKim\\swoop-machine-learning-v2 [(production)]>\n",
    "4. git checkout testing\n",
    "5. message: Branch testing set up to track remote branch testing from origin.\n",
    "6. git checkout -b \"DS-31\"\n",
    "7. .env file is missing"
   ]
  },
  {
   "cell_type": "markdown",
   "id": "eb642af6-cd0d-420c-a805-5338d7ae6706",
   "metadata": {},
   "source": [
    "## YOLOV5 SET UP\n",
    "1. Open terminal inside Vscode\n",
    "2. CLone YOLOv5 (git clone https://github.com/ultralytics/yolov5)\n",
    "3. Crash cloned Github repo inside of swoop-machine-learning-v2 repo\n",
    "4. Delete .github folder, .gitattribute, and .gitignore\n",
    "5. Move detect.py file into swoop-machine-learning-v2 folder\n",
    "6. Update pipfile (Referring to requirements.txt in yolov5 folder)\n",
    "7. Update dockerfile to import cv2 (RUN apt-get update, RUN apt-get -y install libgl1-mesa-glx, RUN apt-get install libglib2.0-0)\n",
    "8. Type docker-compose build at GitBash\n",
    "9. Open VScode and Press F1 and find Rebuild and Reopen the container\n",
    "10. Pipfile.lock is not updated...\n",
    "11. run pipenv lock (https://stackoverflow.com/questions/49460486/pipfile-lock-out-of-date), git commit -am \"updated pipfile\"\n",
    "12. Re-8. Type docker-compose build at GitBash\n",
    "13. Re-9 Rebuild and Reopen the container\n",
    "14. message Installing initially failed dependencies...\n",
    "15. disconnect the container and rebuild\n",
    "16. ALL FAILED\n",
    "17. Open in the container --> This means we are inside of Ubuntu image base. So we can use sudo commandline.\n",
    "18. sudo apt-get update, sudo apt-get -y install libgl1-mesa-glx in terminal\n",
    "19. Then cv2 will be imported\n"
   ]
  },
  {
   "cell_type": "markdown",
   "id": "e5616a02-e61d-4981-873e-21b2d62befef",
   "metadata": {},
   "source": [
    "## Dockerfile\n",
    "1. Dockerfile in Devcontainer should be amended."
   ]
  },
  {
   "cell_type": "markdown",
   "id": "a3fab355-3755-4b40-917e-bfb588db7fa5",
   "metadata": {},
   "source": [
    "# DS-31 is closed. Move on to DS-32\n",
    "----------------------------------------------------------"
   ]
  },
  {
   "cell_type": "markdown",
   "id": "9357696f-aed4-4e30-8455-1fab9c034f72",
   "metadata": {},
   "source": [
    "### Copy the testing and make a new branch DS-32\n",
    "1. git checkout testing\n",
    "2. git fetch\n",
    "3. git pull"
   ]
  },
  {
   "cell_type": "markdown",
   "id": "a36c9efd-49d9-460b-8d95-89cbcc91b875",
   "metadata": {},
   "source": [
    "# Work from a different PC\n",
    "\n",
    "1. I pushed DS-32 from the office PC and the branch has been saved in the Bitbucket\n",
    "2. I would like to download DS-32 into my Mac.\n",
    "3. git checkout DS-32 copies the current branch and move to DS-32 branch\n",
    "4. git checkout origin/DS-32 led me * (HEAD detached at origin/DS-32).  \n",
    "message: You are in 'detached HEAD' state. You can look around, make experimental changes and commit them, and you can discard any commits you make in this state without impacting any branches by switching back to a branch.  If you want to create a new branch to retain commits you create, you may do so (now or later) by using -c with the switch command. Example: git switch -c <new-branch-name> Or undo this operation with:  git switch -  \n",
    "When I 'git pull', it says 'you are not currently on the branch'. I checkout DS-32 and files from origin/DS-32 are copied into DS-32\n",
    "5. branch_name is a local branch, whereas origin/branch_name is a remote-tracking branch; (https://stackoverflow.com/questions/26125162/difference-between-origin-branch-name-and-branch-name)\n"
   ]
  },
  {
   "cell_type": "markdown",
   "id": "1a5add35-b8e1-463f-9674-00b81e45bbd5",
   "metadata": {},
   "source": [
    "### How to see the hidden files in VSCode (especially .git)\n",
    "\n",
    "Go to the Palette (Command + Shift + P) and go to Settings.  \n",
    "Find the files.exclude and delete .git  \n",
    "* https://linuxpip.org/vscode-show-hidden-files/"
   ]
  },
  {
   "cell_type": "code",
   "execution_count": null,
   "id": "a9418f12-3fbb-4977-81c5-00a592c06d35",
   "metadata": {},
   "outputs": [],
   "source": []
  }
 ],
 "metadata": {
  "kernelspec": {
   "display_name": "d2l:Python",
   "language": "python",
   "name": "conda-env-d2l-py"
  },
  "language_info": {
   "codemirror_mode": {
    "name": "ipython",
    "version": 3
   },
   "file_extension": ".py",
   "mimetype": "text/x-python",
   "name": "python",
   "nbconvert_exporter": "python",
   "pygments_lexer": "ipython3",
   "version": "3.9.13"
  }
 },
 "nbformat": 4,
 "nbformat_minor": 5
}
